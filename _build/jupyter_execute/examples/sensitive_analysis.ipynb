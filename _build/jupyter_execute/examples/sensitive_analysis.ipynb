{
 "cells": [
  {
   "attachments": {},
   "cell_type": "markdown",
   "id": "e4382d11",
   "metadata": {},
   "source": [
    "# Tutorial 1.6: Sensitivity analysis"
   ]
  },
  {
   "attachments": {},
   "cell_type": "markdown",
   "id": "91e76ab8",
   "metadata": {},
   "source": [
    "- **Authors**: Xiaoyu Xie\n",
    "- **Contact**: xiaoyuxie2020@u.northwestern.edu\n",
    "\n",
    "[![Open In Colab](https://colab.research.google.com/assets/colab-badge.svg)](https://colab.research.google.com/github/xiaoyuxie-vico/PyDimension-Book/blob/main/examples/sensitive_analysis.ipynb)\n",
    "[![Binder](https://mybinder.org/badge_logo.svg)](https://mybinder.org/v2/gh/xiaoyuxie-vico/PyDimension-Book/HEAD)"
   ]
  },
  {
   "cell_type": "code",
   "execution_count": 1,
   "id": "496bbe0f-c334-4438-ba0f-b94abf099fa4",
   "metadata": {},
   "outputs": [],
   "source": [
    "import matplotlib.pyplot as plt\n",
    "import numpy as np\n",
    "import pandas as pd\n",
    "from SALib.analyze import sobol\n",
    "from sklearn.linear_model import LinearRegression\n",
    "from sklearn.preprocessing import PolynomialFeatures\n",
    "from SALib.sample import saltelli\n",
    "import seaborn as sns\n",
    "\n",
    "%matplotlib inline\n",
    "# plt.rcParams[\"font.family\"] = 'Arial'"
   ]
  },
  {
   "cell_type": "code",
   "execution_count": 2,
   "id": "2eebda41",
   "metadata": {},
   "outputs": [],
   "source": [
    "# # please uncomment these two lines, if you run this code in Colab\n",
    "# !git clone https://github.com/xiaoyuxie-vico/PyDimension-Book\n",
    "# %cd PyDimension-Book/examples"
   ]
  },
  {
   "attachments": {},
   "cell_type": "markdown",
   "id": "b77e2f85",
   "metadata": {},
   "source": [
    "## Helper functions"
   ]
  },
  {
   "cell_type": "code",
   "execution_count": 3,
   "id": "73776615",
   "metadata": {},
   "outputs": [],
   "source": [
    "def parse_data(df, para_list, output='e*'):\n",
    "    '''Parse the input and output parameters'''\n",
    "    X = df[para_list].to_numpy()\n",
    "    y = df[output].to_numpy()\n",
    "    return X, y\n",
    "\n",
    "def calculate_bounds(df, para_list):\n",
    "    '''Calculate lower and upper bounds for each parameter'''\n",
    "    bounds = []\n",
    "    for var_name in para_list:\n",
    "        bounds.append([df[var_name].min(), df[var_name].max()])\n",
    "    return bounds\n",
    "\n",
    "def train_model(X, y, coef_pi, deg):\n",
    "    '''Build a predictive model with polynomial function'''\n",
    "    # build features\n",
    "    pi1 = np.prod(np.power(X, coef_pi.reshape(-1,)), axis=1).reshape(-1, 1)\n",
    "    poly = PolynomialFeatures(deg)\n",
    "    pi1_poly = poly.fit_transform(pi1)\n",
    "    \n",
    "    # fit\n",
    "    model = LinearRegression(fit_intercept=False)\n",
    "    model.fit(pi1_poly, y)\n",
    "    model.score(pi1_poly, y)\n",
    "    return model, poly\n",
    "\n",
    "def SA(para_list, coef_pi, bounds, model, poly, sample_num=2**10):\n",
    "    '''Sensitivity analysis'''\n",
    "    problem = {'num_vars': len(para_list), 'names': para_list, 'bounds': bounds}\n",
    "\n",
    "    # Generate samples\n",
    "    X_sampled = saltelli.sample(problem, sample_num, calc_second_order=True)\n",
    "    pi1_sampled = np.prod(np.power(X_sampled, coef_pi.reshape(-1,)), axis=1).reshape(-1, 1)\n",
    "    pi1_sampled_poly = poly.transform(pi1_sampled)\n",
    "    Y_sampled = model.predict(pi1_sampled_poly).reshape(-1,)\n",
    "    print(Y_sampled.shape)\n",
    "\n",
    "    # Perform analysis\n",
    "    Si = sobol.analyze(problem, Y_sampled, print_to_console=True)\n",
    "    \n",
    "    return Si\n",
    "\n",
    "def plot(Si, xtick_labels):\n",
    "    '''Visualization'''\n",
    "    total_Si, first_Si, second_Si = Si.to_df()\n",
    "    \n",
    "    total_Si['Type'] = ['Sobol total'] * total_Si.shape[0]\n",
    "    total_Si = total_Si.rename(columns={'ST': 'Sensitivity', 'ST_conf': 'conf'})\n",
    "    total_Si.index.name = 'Variable'\n",
    "    total_Si.reset_index(inplace=True)\n",
    "\n",
    "    first_Si['Type'] = ['Sobol 1st order'] * first_Si.shape[0]\n",
    "    first_Si = first_Si.rename(columns={'S1': 'Sensitivity', 'S1_conf': 'conf'})\n",
    "    first_Si.index.name = 'Variable'\n",
    "    first_Si.reset_index(inplace=True)\n",
    "    \n",
    "    res_df = pd.concat([first_Si, total_Si]).reset_index(drop=False)\n",
    "    # res_df = res_df.reindex(combined_df_index)\n",
    "    \n",
    "    fig = plt.figure()\n",
    "    ax = sns.barplot(data=res_df, x='Variable', y='Sensitivity', hue='Type')\n",
    "    ax.set_xticklabels(xtick_labels)\n",
    "    ax.legend(fontsize=14)\n",
    "    ax.set_xlabel('Variable', fontsize=16)\n",
    "    ax.set_ylabel('Sensitivity', fontsize=16)\n",
    "    ax.tick_params(axis='both', which='major', labelsize=13)\n",
    "    plt.tight_layout()\n"
   ]
  },
  {
   "attachments": {},
   "cell_type": "markdown",
   "id": "db16f458",
   "metadata": {},
   "source": [
    "## Load keyhole dataset"
   ]
  },
  {
   "cell_type": "code",
   "execution_count": 4,
   "id": "765b7613-6860-4f77-ac97-3221a6d80af2",
   "metadata": {},
   "outputs": [
    {
     "data": {
      "text/html": [
       "<div>\n",
       "<style scoped>\n",
       "    .dataframe tbody tr th:only-of-type {\n",
       "        vertical-align: middle;\n",
       "    }\n",
       "\n",
       "    .dataframe tbody tr th {\n",
       "        vertical-align: top;\n",
       "    }\n",
       "\n",
       "    .dataframe thead th {\n",
       "        text-align: right;\n",
       "    }\n",
       "</style>\n",
       "<table border=\"1\" class=\"dataframe\">\n",
       "  <thead>\n",
       "    <tr style=\"text-align: right;\">\n",
       "      <th></th>\n",
       "      <th>etaP</th>\n",
       "      <th>Vs</th>\n",
       "      <th>r0</th>\n",
       "      <th>alpha</th>\n",
       "      <th>rho</th>\n",
       "      <th>cp</th>\n",
       "      <th>Tv-T0</th>\n",
       "      <th>Lv</th>\n",
       "      <th>Tl-T0</th>\n",
       "      <th>Lm</th>\n",
       "      <th>e</th>\n",
       "      <th>Ke</th>\n",
       "      <th>e*</th>\n",
       "    </tr>\n",
       "  </thead>\n",
       "  <tbody>\n",
       "    <tr>\n",
       "      <th>count</th>\n",
       "      <td>90.000000</td>\n",
       "      <td>90.000000</td>\n",
       "      <td>90.000000</td>\n",
       "      <td>90.000000</td>\n",
       "      <td>90.000000</td>\n",
       "      <td>90.000000</td>\n",
       "      <td>90.000000</td>\n",
       "      <td>9.000000e+01</td>\n",
       "      <td>90.000000</td>\n",
       "      <td>90.000000</td>\n",
       "      <td>90.000000</td>\n",
       "      <td>90.000000</td>\n",
       "      <td>90.000000</td>\n",
       "    </tr>\n",
       "    <tr>\n",
       "      <th>mean</th>\n",
       "      <td>143.036444</td>\n",
       "      <td>0.733889</td>\n",
       "      <td>0.000053</td>\n",
       "      <td>0.000013</td>\n",
       "      <td>3949.633333</td>\n",
       "      <td>872.222222</td>\n",
       "      <td>3130.533333</td>\n",
       "      <td>9.197967e+06</td>\n",
       "      <td>1480.044444</td>\n",
       "      <td>296511.111111</td>\n",
       "      <td>0.000173</td>\n",
       "      <td>9.981230</td>\n",
       "      <td>3.520206</td>\n",
       "    </tr>\n",
       "    <tr>\n",
       "      <th>std</th>\n",
       "      <td>85.162496</td>\n",
       "      <td>0.267933</td>\n",
       "      <td>0.000010</td>\n",
       "      <td>0.000008</td>\n",
       "      <td>997.040085</td>\n",
       "      <td>117.939022</td>\n",
       "      <td>275.287641</td>\n",
       "      <td>9.413036e+05</td>\n",
       "      <td>342.642865</td>\n",
       "      <td>33657.309487</td>\n",
       "      <td>0.000129</td>\n",
       "      <td>7.220693</td>\n",
       "      <td>2.799219</td>\n",
       "    </tr>\n",
       "    <tr>\n",
       "      <th>min</th>\n",
       "      <td>31.400000</td>\n",
       "      <td>0.300000</td>\n",
       "      <td>0.000044</td>\n",
       "      <td>0.000005</td>\n",
       "      <td>2415.000000</td>\n",
       "      <td>790.000000</td>\n",
       "      <td>2499.000000</td>\n",
       "      <td>6.336000e+06</td>\n",
       "      <td>622.000000</td>\n",
       "      <td>260000.000000</td>\n",
       "      <td>0.000015</td>\n",
       "      <td>1.545937</td>\n",
       "      <td>0.208731</td>\n",
       "    </tr>\n",
       "    <tr>\n",
       "      <th>25%</th>\n",
       "      <td>73.825000</td>\n",
       "      <td>0.600000</td>\n",
       "      <td>0.000048</td>\n",
       "      <td>0.000010</td>\n",
       "      <td>3920.000000</td>\n",
       "      <td>830.000000</td>\n",
       "      <td>3267.000000</td>\n",
       "      <td>9.255000e+06</td>\n",
       "      <td>1630.000000</td>\n",
       "      <td>286000.000000</td>\n",
       "      <td>0.000071</td>\n",
       "      <td>4.197719</td>\n",
       "      <td>1.300126</td>\n",
       "    </tr>\n",
       "    <tr>\n",
       "      <th>50%</th>\n",
       "      <td>120.160000</td>\n",
       "      <td>0.700000</td>\n",
       "      <td>0.000048</td>\n",
       "      <td>0.000010</td>\n",
       "      <td>3920.000000</td>\n",
       "      <td>830.000000</td>\n",
       "      <td>3267.000000</td>\n",
       "      <td>9.255000e+06</td>\n",
       "      <td>1630.000000</td>\n",
       "      <td>286000.000000</td>\n",
       "      <td>0.000146</td>\n",
       "      <td>7.947395</td>\n",
       "      <td>2.925625</td>\n",
       "    </tr>\n",
       "    <tr>\n",
       "      <th>75%</th>\n",
       "      <td>192.895000</td>\n",
       "      <td>1.000000</td>\n",
       "      <td>0.000066</td>\n",
       "      <td>0.000010</td>\n",
       "      <td>3920.000000</td>\n",
       "      <td>830.000000</td>\n",
       "      <td>3267.000000</td>\n",
       "      <td>9.255000e+06</td>\n",
       "      <td>1630.000000</td>\n",
       "      <td>286000.000000</td>\n",
       "      <td>0.000252</td>\n",
       "      <td>14.359714</td>\n",
       "      <td>5.232955</td>\n",
       "    </tr>\n",
       "    <tr>\n",
       "      <th>max</th>\n",
       "      <td>342.600000</td>\n",
       "      <td>1.200000</td>\n",
       "      <td>0.000070</td>\n",
       "      <td>0.000032</td>\n",
       "      <td>6881.000000</td>\n",
       "      <td>1170.000000</td>\n",
       "      <td>3267.000000</td>\n",
       "      <td>1.053000e+07</td>\n",
       "      <td>1630.000000</td>\n",
       "      <td>380000.000000</td>\n",
       "      <td>0.000562</td>\n",
       "      <td>37.772286</td>\n",
       "      <td>12.772727</td>\n",
       "    </tr>\n",
       "  </tbody>\n",
       "</table>\n",
       "</div>"
      ],
      "text/plain": [
       "             etaP         Vs         r0      alpha          rho           cp  \\\n",
       "count   90.000000  90.000000  90.000000  90.000000    90.000000    90.000000   \n",
       "mean   143.036444   0.733889   0.000053   0.000013  3949.633333   872.222222   \n",
       "std     85.162496   0.267933   0.000010   0.000008   997.040085   117.939022   \n",
       "min     31.400000   0.300000   0.000044   0.000005  2415.000000   790.000000   \n",
       "25%     73.825000   0.600000   0.000048   0.000010  3920.000000   830.000000   \n",
       "50%    120.160000   0.700000   0.000048   0.000010  3920.000000   830.000000   \n",
       "75%    192.895000   1.000000   0.000066   0.000010  3920.000000   830.000000   \n",
       "max    342.600000   1.200000   0.000070   0.000032  6881.000000  1170.000000   \n",
       "\n",
       "             Tv-T0            Lv        Tl-T0             Lm          e  \\\n",
       "count    90.000000  9.000000e+01    90.000000      90.000000  90.000000   \n",
       "mean   3130.533333  9.197967e+06  1480.044444  296511.111111   0.000173   \n",
       "std     275.287641  9.413036e+05   342.642865   33657.309487   0.000129   \n",
       "min    2499.000000  6.336000e+06   622.000000  260000.000000   0.000015   \n",
       "25%    3267.000000  9.255000e+06  1630.000000  286000.000000   0.000071   \n",
       "50%    3267.000000  9.255000e+06  1630.000000  286000.000000   0.000146   \n",
       "75%    3267.000000  9.255000e+06  1630.000000  286000.000000   0.000252   \n",
       "max    3267.000000  1.053000e+07  1630.000000  380000.000000   0.000562   \n",
       "\n",
       "              Ke         e*  \n",
       "count  90.000000  90.000000  \n",
       "mean    9.981230   3.520206  \n",
       "std     7.220693   2.799219  \n",
       "min     1.545937   0.208731  \n",
       "25%     4.197719   1.300126  \n",
       "50%     7.947395   2.925625  \n",
       "75%    14.359714   5.232955  \n",
       "max    37.772286  12.772727  "
      ]
     },
     "execution_count": 4,
     "metadata": {},
     "output_type": "execute_result"
    }
   ],
   "source": [
    "# load data\n",
    "df = pd.read_csv('../dataset/dataset_keyhole.csv')\n",
    "df.describe()"
   ]
  },
  {
   "attachments": {},
   "cell_type": "markdown",
   "id": "7594611f",
   "metadata": {},
   "source": [
    "## Analysis for Ke"
   ]
  },
  {
   "cell_type": "code",
   "execution_count": 5,
   "id": "1dad1d62-c827-4ed7-9e17-fdd5302494e2",
   "metadata": {},
   "outputs": [
    {
     "name": "stderr",
     "output_type": "stream",
     "text": [
      "/tmp/ipykernel_13504/3367990274.py:32: DeprecationWarning: `salib.sample.saltelli` will be removed in SALib 1.5. Please use `salib.sample.sobol`\n",
      "  X_sampled = saltelli.sample(problem, sample_num, calc_second_order=True)\n"
     ]
    },
    {
     "name": "stdout",
     "output_type": "stream",
     "text": [
      "(16384,)\n",
      "             ST   ST_conf\n",
      "etaP   0.468911  0.056928\n",
      "Vs     0.075444  0.009698\n",
      "r0     0.086941  0.012552\n",
      "alpha  0.137722  0.016489\n",
      "rho    0.194494  0.022837\n",
      "cp     0.026777  0.003598\n",
      "Tl-T0  0.160593  0.020186\n",
      "             S1   S1_conf\n",
      "etaP   0.379400  0.055575\n",
      "Vs     0.058095  0.027235\n",
      "r0     0.061965  0.025987\n",
      "alpha  0.110631  0.031598\n",
      "rho    0.144342  0.048481\n",
      "cp     0.018855  0.014861\n",
      "Tl-T0  0.128264  0.035198\n",
      "                      S2   S2_conf\n",
      "(etaP, Vs)      0.008929  0.067780\n",
      "(etaP, r0)      0.014155  0.063702\n",
      "(etaP, alpha)   0.010734  0.071605\n",
      "(etaP, rho)     0.042107  0.080435\n",
      "(etaP, cp)      0.003964  0.064910\n",
      "(etaP, Tl-T0)   0.018733  0.075123\n",
      "(Vs, r0)       -0.003869  0.042091\n",
      "(Vs, alpha)    -0.006055  0.041836\n",
      "(Vs, rho)       0.000813  0.042304\n",
      "(Vs, cp)       -0.007282  0.037941\n",
      "(Vs, Tl-T0)    -0.000395  0.044344\n",
      "(r0, alpha)     0.003093  0.046061\n",
      "(r0, rho)      -0.001922  0.041634\n",
      "(r0, cp)        0.002067  0.040927\n",
      "(r0, Tl-T0)     0.001900  0.045898\n",
      "(alpha, rho)   -0.000030  0.058705\n",
      "(alpha, cp)    -0.015239  0.056413\n",
      "(alpha, Tl-T0) -0.006766  0.067627\n",
      "(rho, cp)       0.000069  0.071825\n",
      "(rho, Tl-T0)   -0.008466  0.075186\n",
      "(cp, Tl-T0)    -0.002182  0.022952\n"
     ]
    }
   ],
   "source": [
    "# config\n",
    "para_list = ['etaP', 'Vs', 'r0', 'alpha', 'rho', 'cp', 'Tl-T0']\n",
    "coef_pi = np.array([1, -0.5, -1.5, -0.5, -1, -1, -1])  # for Ke\n",
    "deg = 3\n",
    "\n",
    "# choose parameters\n",
    "X, y = parse_data(df, para_list)\n",
    "\n",
    "# calculate bounds\n",
    "bounds = calculate_bounds(df, para_list)\n",
    "\n",
    "# train mdoel\n",
    "model, poly = train_model(X, y, coef_pi, deg)\n",
    "\n",
    "# calculate sensitivity\n",
    "Si = SA(para_list, coef_pi, bounds, model, poly)"
   ]
  },
  {
   "cell_type": "code",
   "execution_count": 6,
   "id": "63626364",
   "metadata": {},
   "outputs": [
    {
     "data": {
      "image/png": "[encoded data removed]",
      "text/plain": [
       "<Figure size 640x480 with 1 Axes>"
      ]
     },
     "metadata": {
      "filenames": {
       "image/png": "/home/xie/projects/PyDimension-Book/_build/jupyter_execute/examples/sensitive_analysis_10_0.png"
      }
     },
     "output_type": "display_data"
    }
   ],
   "source": [
    "xtick_labels = [r'$\\eta P$', r'$\\rho$', r'$T_l-T_0$', r'$\\alpha$', r'$r_0$', r'$V_s$', r'$C_p$']\n",
    "# sort the sensitivity from high to low\n",
    "# combined_df_index = [0, 4, 6, 3, 2, 1, 5, 0+7, 4+7, 6+7, 3+7, 2+7, 1+7, 5+7] \n",
    "plot(Si, xtick_labels)"
   ]
  },
  {
   "attachments": {},
   "cell_type": "markdown",
   "id": "84b88cc8",
   "metadata": {},
   "source": [
    "## Add one more parameter $T_v-T_l$"
   ]
  },
  {
   "cell_type": "code",
   "execution_count": 7,
   "id": "f4f3b2e2-5365-4ba5-9d75-d43778c02bf3",
   "metadata": {},
   "outputs": [
    {
     "name": "stderr",
     "output_type": "stream",
     "text": [
      "/tmp/ipykernel_13504/3367990274.py:32: DeprecationWarning: `salib.sample.saltelli` will be removed in SALib 1.5. Please use `salib.sample.sobol`\n",
      "  X_sampled = saltelli.sample(problem, sample_num, calc_second_order=True)\n"
     ]
    },
    {
     "name": "stdout",
     "output_type": "stream",
     "text": [
      "(18432,)\n",
      "             ST   ST_conf\n",
      "etaP   0.435631  0.134623\n",
      "Vs     0.102755  0.021786\n",
      "r0     0.101415  0.031282\n",
      "alpha  0.216431  0.056151\n",
      "rho    0.243284  0.091602\n",
      "cp     0.029825  0.006825\n",
      "Tl-T0  0.154469  0.084950\n",
      "Tv-T0  0.001798  0.001092\n",
      "             S1   S1_conf\n",
      "etaP   0.293056  0.077243\n",
      "Vs     0.058431  0.028659\n",
      "r0     0.060356  0.031793\n",
      "alpha  0.111009  0.041541\n",
      "rho    0.143368  0.047292\n",
      "cp     0.017399  0.011495\n",
      "Tl-T0  0.059561  0.027110\n",
      "Tv-T0  0.000351  0.003124\n",
      "                      S2   S2_conf\n",
      "(etaP, Vs)      0.001401  0.065627\n",
      "(etaP, r0)     -0.004557  0.060997\n",
      "(etaP, alpha)   0.022270  0.071110\n",
      "(etaP, rho)     0.009413  0.072088\n",
      "(etaP, cp)     -0.011741  0.059219\n",
      "(etaP, Tl-T0)   0.010808  0.076470\n",
      "(etaP, Tv-T0)  -0.008894  0.062713\n",
      "(Vs, r0)       -0.008851  0.053176\n",
      "(Vs, alpha)    -0.008343  0.065172\n",
      "(Vs, rho)      -0.010061  0.057539\n",
      "(Vs, cp)       -0.009823  0.045981\n",
      "(Vs, Tl-T0)    -0.006326  0.058689\n",
      "(Vs, Tv-T0)    -0.009010  0.046571\n",
      "(r0, alpha)    -0.013241  0.056398\n",
      "(r0, rho)       0.000213  0.060594\n",
      "(r0, cp)       -0.009465  0.048972\n",
      "(r0, Tl-T0)    -0.001906  0.067778\n",
      "(r0, Tv-T0)    -0.009262  0.050348\n",
      "(alpha, rho)    0.012296  0.112398\n",
      "(alpha, cp)    -0.010145  0.079179\n",
      "(alpha, Tl-T0) -0.018565  0.086098\n",
      "(alpha, Tv-T0) -0.006149  0.081406\n",
      "(rho, cp)      -0.022207  0.067328\n",
      "(rho, Tl-T0)   -0.009719  0.067188\n",
      "(rho, Tv-T0)   -0.025940  0.065952\n",
      "(cp, Tl-T0)     0.000179  0.021150\n",
      "(cp, Tv-T0)    -0.003383  0.017706\n",
      "(Tl-T0, Tv-T0) -0.000089  0.056270\n"
     ]
    }
   ],
   "source": [
    "# config\n",
    "para_list = ['etaP', 'Vs', 'r0', 'alpha', 'rho', 'cp', 'Tl-T0', 'Tv-T0']\n",
    "coef_pi = np.array([1, -0.5, -1.5, -0.5, -1, -1, -0.75, -0.25])  # for table 3, 2nd row\n",
    "deg = 3\n",
    "\n",
    "# choose parameters\n",
    "X, y = parse_data(df, para_list)\n",
    "\n",
    "# calculate bounds\n",
    "bounds = calculate_bounds(df, para_list)\n",
    "\n",
    "# train mdoel\n",
    "model, poly = train_model(X, y, coef_pi, deg)\n",
    "\n",
    "# calculate sensitivity\n",
    "Si = SA(para_list, coef_pi, bounds, model, poly)"
   ]
  },
  {
   "cell_type": "code",
   "execution_count": 8,
   "id": "49efae1d",
   "metadata": {},
   "outputs": [
    {
     "data": {
      "image/png": "[encoded data removed]",
      "text/plain": [
       "<Figure size 640x480 with 1 Axes>"
      ]
     },
     "metadata": {
      "filenames": {
       "image/png": "/home/xie/projects/PyDimension-Book/_build/jupyter_execute/examples/sensitive_analysis_13_0.png"
      }
     },
     "output_type": "display_data"
    }
   ],
   "source": [
    "xtick_labels = [r'$\\eta P$', r'$V_s$', r'$r_0$', r'$\\alpha$', r'$\\rho$',\n",
    "                    r'$C_p$', r'$T_l-T_0$', r'$T_v-T_l$']\n",
    "plot(Si, xtick_labels)"
   ]
  },
  {
   "attachments": {},
   "cell_type": "markdown",
   "id": "d5c7689f",
   "metadata": {},
   "source": [
    "## Add one more parameter $L_m$"
   ]
  },
  {
   "cell_type": "code",
   "execution_count": 9,
   "id": "8adab671",
   "metadata": {},
   "outputs": [
    {
     "name": "stderr",
     "output_type": "stream",
     "text": [
      "/tmp/ipykernel_13504/3367990274.py:32: DeprecationWarning: `salib.sample.saltelli` will be removed in SALib 1.5. Please use `salib.sample.sobol`\n",
      "  X_sampled = saltelli.sample(problem, sample_num, calc_second_order=True)\n"
     ]
    },
    {
     "name": "stdout",
     "output_type": "stream",
     "text": [
      "(18432,)\n"
     ]
    },
    {
     "name": "stdout",
     "output_type": "stream",
     "text": [
      "             ST   ST_conf\n",
      "etaP   0.407922  0.180610\n",
      "Vs     0.114861  0.041372\n",
      "r0     0.109062  0.049810\n",
      "alpha  0.253861  0.115523\n",
      "rho    0.295320  0.216713\n",
      "cp     0.018771  0.008362\n",
      "Tl-T0  0.216055  0.212208\n",
      "Lm     0.005355  0.004654\n",
      "             S1   S1_conf\n",
      "etaP   0.246249  0.092355\n",
      "Vs     0.053234  0.026338\n",
      "r0     0.051079  0.030485\n",
      "alpha  0.101483  0.046561\n",
      "rho    0.127977  0.058670\n",
      "cp     0.008455  0.008518\n",
      "Tl-T0  0.051638  0.028429\n",
      "Lm     0.000703  0.003790\n",
      "                      S2   S2_conf\n",
      "(etaP, Vs)     -0.001122  0.056589\n",
      "(etaP, r0)     -0.008193  0.054476\n",
      "(etaP, alpha)   0.019447  0.076453\n",
      "(etaP, rho)     0.006793  0.067423\n",
      "(etaP, cp)     -0.014905  0.057506\n",
      "(etaP, Tl-T0)   0.011559  0.081713\n",
      "(etaP, Lm)     -0.010896  0.059814\n",
      "(Vs, r0)       -0.011737  0.052146\n",
      "(Vs, alpha)    -0.012059  0.071268\n",
      "(Vs, rho)      -0.014467  0.058041\n",
      "(Vs, cp)       -0.012331  0.047543\n",
      "(Vs, Tl-T0)    -0.009250  0.061771\n",
      "(Vs, Lm)       -0.011251  0.047606\n",
      "(r0, alpha)    -0.008149  0.055715\n",
      "(r0, rho)       0.008530  0.057541\n",
      "(r0, cp)       -0.004924  0.043989\n",
      "(r0, Tl-T0)     0.006490  0.076907\n",
      "(r0, Lm)       -0.003403  0.046154\n",
      "(alpha, rho)    0.024897  0.153146\n",
      "(alpha, cp)    -0.007572  0.093530\n",
      "(alpha, Tl-T0) -0.015623  0.096744\n",
      "(alpha, Lm)    -0.002525  0.097367\n",
      "(rho, cp)      -0.023625  0.077814\n",
      "(rho, Tl-T0)   -0.006633  0.078949\n",
      "(rho, Lm)      -0.025646  0.076982\n",
      "(cp, Tl-T0)     0.000633  0.016145\n",
      "(cp, Lm)       -0.002598  0.013373\n",
      "(Tl-T0, Lm)     0.005331  0.081760\n"
     ]
    }
   ],
   "source": [
    "# config\n",
    "para_list = ['etaP', 'Vs', 'r0', 'alpha', 'rho', 'cp', 'Tl-T0', 'Lm']\n",
    "coef_pi = np.array([1, -0.5, -1.5, -0.5, -1, -0.75, -0.75, -0.25])  # for table 4, 3rd row\n",
    "deg = 3\n",
    "\n",
    "# choose parameters\n",
    "X, y = parse_data(df, para_list)\n",
    "\n",
    "# calculate bounds\n",
    "bounds = calculate_bounds(df, para_list)\n",
    "\n",
    "# train mdoel\n",
    "model, poly = train_model(X, y, coef_pi, deg)\n",
    "\n",
    "# calculate sensitivity\n",
    "Si = SA(para_list, coef_pi, bounds, model, poly)"
   ]
  },
  {
   "cell_type": "code",
   "execution_count": 10,
   "id": "07a1bd3b",
   "metadata": {},
   "outputs": [
    {
     "data": {
      "image/png": "[encoded data removed]",
      "text/plain": [
       "<Figure size 640x480 with 1 Axes>"
      ]
     },
     "metadata": {
      "filenames": {
       "image/png": "/home/xie/projects/PyDimension-Book/_build/jupyter_execute/examples/sensitive_analysis_16_0.png"
      }
     },
     "output_type": "display_data"
    }
   ],
   "source": [
    "xtick_labels = [r'$\\eta P$', r'$V_s$', r'$r_0$', r'$\\alpha$', r'$\\rho$',\n",
    "                    r'$C_p$', r'$T_l-T_0$', r'$L_m$']\n",
    "plot(Si, xtick_labels)"
   ]
  },
  {
   "cell_type": "code",
   "execution_count": null,
   "id": "bb24791a",
   "metadata": {},
   "outputs": [],
   "source": []
  }
 ],
 "metadata": {
  "kernelspec": {
   "display_name": "Python 3.8.8 ('xie')",
   "language": "python",
   "name": "python3"
  },
  "language_info": {
   "codemirror_mode": {
    "name": "ipython",
    "version": 3
   },
   "file_extension": ".py",
   "mimetype": "text/x-python",
   "name": "python",
   "nbconvert_exporter": "python",
   "pygments_lexer": "ipython3",
   "version": "3.11.0"
  },
  "vscode": {
   "interpreter": {
    "hash": "d4e05679d6a31593988b5489bd865ca5a262d5481eb276cba948c252ea078b95"
   }
  }
 },
 "nbformat": 4,
 "nbformat_minor": 5
}