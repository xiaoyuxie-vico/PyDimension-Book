{
 "cells": [
  {
   "attachments": {},
   "cell_type": "markdown",
   "metadata": {},
   "source": [
    "# Tutorial 1.5: Cross validation experiments"
   ]
  },
  {
   "attachments": {},
   "cell_type": "markdown",
   "metadata": {},
   "source": [
    "- **Authors**: Xiaoyu Xie\n",
    "- **Contact**: xiaoyuxie2020@u.northwestern.edu\n",
    "\n",
    "[![Open In Colab](https://colab.research.google.com/assets/colab-badge.svg)](https://colab.research.google.com/github/xiaoyuxie-vico/PyDimension-Book/blob/main/examples/cross_validation_keyhole_example.ipynb)\n",
    "[![Binder](https://mybinder.org/badge_logo.svg)](https://mybinder.org/v2/gh/xiaoyuxie-vico/PyDimension-Book/HEAD)"
   ]
  },
  {
   "attachments": {},
   "cell_type": "markdown",
   "metadata": {},
   "source": [
    "## Import libraries"
   ]
  },
  {
   "cell_type": "code",
   "execution_count": 1,
   "metadata": {},
   "outputs": [],
   "source": [
    "import numpy as np\n",
    "import matplotlib.pyplot as plt\n",
    "from numpy.linalg import matrix_rank\n",
    "from numpy.linalg import inv\n",
    "import pandas as pd\n",
    "import pysindy as ps\n",
    "import random\n",
    "import seaborn as sns\n",
    "from sklearn.linear_model import LinearRegression\n",
    "from sklearn.ensemble import RandomForestRegressor\n",
    "from sklearn.metrics import r2_score\n",
    "from sklearn.model_selection import train_test_split\n",
    "from sklearn.model_selection import cross_val_score\n",
    "from sklearn.model_selection import GridSearchCV\n",
    "from sklearn.model_selection import ShuffleSplit\n",
    "from sklearn.model_selection import KFold\n",
    "from sklearn.neighbors import KNeighborsRegressor\n",
    "from sklearn.neural_network import MLPRegressor\n",
    "from sklearn.preprocessing import StandardScaler\n",
    "from sklearn.utils import shuffle\n",
    "from scipy.optimize import minimize\n",
    "import xgboost\n",
    "import warnings\n",
    "\n",
    "warnings.filterwarnings(\"ignore\")\n",
    "%matplotlib inline\n",
    "plt.rcParams[\"font.family\"] = 'Arial'\n",
    "np.set_printoptions(suppress=True)"
   ]
  },
  {
   "cell_type": "code",
   "execution_count": 2,
   "metadata": {},
   "outputs": [],
   "source": [
    "class DimensionlessLearning(object):\n",
    "    '''\n",
    "    Indentify the explicit form one coefficient using dimensionless learning\n",
    "    '''\n",
    "    \n",
    "    def __init__(self, df, input_list, output_list, dimension_info, basis_list):\n",
    "        super(DimensionlessLearning, self).__init__()\n",
    "        self.df = df\n",
    "        self.input_list = input_list\n",
    "        self.output_list = output_list\n",
    "        self.X, self.y = self.prepare_dataset()\n",
    "        self.dimension_info, self.basis_list = dimension_info, basis_list\n",
    "        self.basis1_in, self.basis2_in, self.basis3_in = self.prepare_dimension()\n",
    "\n",
    "    def prepare_dataset(self):\n",
    "        '''\n",
    "        prepare the input and output data\n",
    "        '''\n",
    "        X = self.df[self.input_list].to_numpy()\n",
    "        y = self.df[self.output_list].to_numpy().reshape(-1, 1)\n",
    "        return X, y\n",
    "        \n",
    "    def prepare_dimension(self):\n",
    "        '''\n",
    "        parse dimension for input and output\n",
    "        '''\n",
    "        basis1_in, basis2_in, basis3_in = self.basis_list\n",
    "        return basis1_in, basis2_in, basis3_in\n",
    "\n",
    "    def fetch_coef_pi(self, coef):\n",
    "        '''\n",
    "        parse the combined weights for the input\n",
    "        '''\n",
    "        coef_pi = coef[0] * self.basis1_in + coef[1] * self.basis2_in + coef[2] * self.basis3_in\n",
    "        return coef_pi\n",
    "        \n",
    "    def check_dimension(self, coef):\n",
    "        '''\n",
    "        check whether the basis vectors can formulated as the D_out\n",
    "        '''\n",
    "        coef_pi = self.fetch_coef_pi(coef)\n",
    "        # print('[check] coef_pi: \\n', coef_pi)\n",
    "        target_D_out = np.dot(self.dimension_info[0], coef_pi)\n",
    "        # print('[check] target_D_out: \\n', target_D_out)\n",
    "        assert np.array_equal(target_D_out, self.dimension_info[1]), 'Wrong target_D_out!'\n",
    "\n",
    "    def predict(self, X, coef, coef_w, degree):\n",
    "        '''\n",
    "        Predict\n",
    "        '''\n",
    "        pi_in = np.prod(np.power(X, coef.reshape(-1,)), axis=1).reshape(1, -1)\n",
    "        feats_train = self.parse_feats(pi_in, degree)\n",
    "        pred = np.sum(np.multiply(feats_train, coef_w), axis=1)\n",
    "        return pred\n",
    "\n",
    "    def parse_feats(self, arr, degree=5):\n",
    "        # prepare different degrees' features\n",
    "        feats_list = []\n",
    "        for degree_idx in range(degree+1):\n",
    "            feats_list.append(arr**degree_idx)\n",
    "        feats = np.vstack(feats_list).T\n",
    "        return feats\n",
    "\n",
    "    def fit_pattern_search(self, max_ps=10, degree=5, seed=0):\n",
    "        idx = 0\n",
    "        r2, basis_coef_final, reg_coef_final, coef_w_final = 0, None, None, None\n",
    "        while idx <= max_ps:\n",
    "            r2_temp, basis_coef_temp, reg_coef_temp, coef_w_temp = self.fit_pattern_search_base(degree=degree, seed=idx+seed*max_ps)\n",
    "            idx += 1\n",
    "            if r2_temp > r2:\n",
    "                r2, basis_coef_final, reg_coef_final, coef_w_final = r2_temp, basis_coef_temp, reg_coef_temp, coef_w_temp\n",
    "        return r2, basis_coef_final, reg_coef_final, coef_w_final\n",
    "\n",
    "    def fit_pattern_search_base(self, degree, seed=0):\n",
    "        '''\n",
    "        pattern search\n",
    "        '''\n",
    "        def get_coordinates(a, b, c, delta):\n",
    "            '''\n",
    "            Build a list to store all possible coordiantes\n",
    "            '''\n",
    "            coord_all = []\n",
    "            for b_ in [b-delta, b, b+delta]:\n",
    "                for c_ in [c-delta, c, c+delta]:\n",
    "                    if [b_, c_] != [b, c]:\n",
    "                        coord_all.append([a, b_, c_])\n",
    "            return coord_all\n",
    "\n",
    "        def opt(coef, degree):\n",
    "            '''\n",
    "            fit a linear regression\n",
    "            '''\n",
    "            coef_pi = self.fetch_coef_pi(coef)\n",
    "            pi_in = np.prod(np.power(self.X, coef_pi.reshape(-1,)), axis=1).reshape(1, -1)\n",
    "            feats_train = self.parse_feats(pi_in, degree)\n",
    "            reg =LinearRegression(fit_intercept=False)\n",
    "            reg.fit(feats_train, self.y)\n",
    "            y_pred = reg.predict(feats_train)\n",
    "            r2 = r2_score(self.y, y_pred)\n",
    "            return r2, coef_pi, reg.coef_\n",
    "\n",
    "        np.random.seed(seed)\n",
    "        res, break_points = [], []\n",
    "        a = 0.5\n",
    "        # b, c = 1, 1\n",
    "        b = np.random.choice(np.linspace(-2, 2, 9), 1)[0]  # [-2, 2] delta=0.5\n",
    "        c = np.random.choice(np.linspace(-2, 2, 9), 1)[0]  # [-2, 2] delta=0.5\n",
    "        coef = np.array([a, b, c]).reshape(-1, 1)\n",
    "\n",
    "        iter_num, max_iter, delta = 0, 20, 0.5\n",
    "        while iter_num < max_iter:\n",
    "            candidate_coord = get_coordinates(a, b, c, delta)\n",
    "            r2_center, reg_coef_center, coef_w_center = opt(coef, degree)\n",
    "            # print('r2_center', round(r2_center, 2), 'reg_coef_center', [round(each, 2) for each in list(reg_coef_center.reshape(-1,))])\n",
    "            # print('coef_w_center', coef_w_center)\n",
    "\n",
    "            if r2_center < 0.2:\n",
    "                break_points.append([a, b, c])\n",
    "                break\n",
    "\n",
    "            r2_bounds_val = []\n",
    "            for [a_, b_, c_] in candidate_coord:\n",
    "                coef_temp = np.array([a_, b_, c_]).reshape(-1, 1)\n",
    "                r2_bound, reg_coef_bound, coef_w_bound = opt(coef_temp, degree)\n",
    "                r2_bounds_val.append(r2_bound)\n",
    "\n",
    "            # sort r2 from high to low\n",
    "            highest_index = np.argsort(r2_bounds_val)[::-1][0]\n",
    "            iter_num += 1\n",
    "\n",
    "            # udpate the center coordiantes when the R2 in the neighborhood is higher\n",
    "            if r2_center < r2_bounds_val[highest_index]:\n",
    "                [a, b, c] = candidate_coord[highest_index]\n",
    "                coef = np.array([a, b, c]).reshape(-1, 1)\n",
    "                coef_pi = self.fetch_coef_pi(coef)\n",
    "                res_info = {'a': a, 'b': b, 'c': c, 'r2_center': round(r2_bounds_val[highest_index], 4)}\n",
    "                # print('update', res_info)\n",
    "                res.append(res_info)\n",
    "            else:\n",
    "                break\n",
    "        \n",
    "        basis_coef = [a, b, c]\n",
    "        coef_pi = self.fetch_coef_pi(coef)\n",
    "        r2, reg_coef, coef_w = opt(coef, degree)\n",
    "        self.gamma, self.beta = reg_coef, int(round(coef_w[0][0], 0))\n",
    "\n",
    "        return r2, basis_coef, reg_coef, coef_w"
   ]
  },
  {
   "cell_type": "code",
   "execution_count": 3,
   "metadata": {},
   "outputs": [
    {
     "name": "stdout",
     "output_type": "stream",
     "text": [
      "[Dataset] X_train: (83, 8), X_test: (83, 8)\n"
     ]
    }
   ],
   "source": [
    "# load dataset\n",
    "df = pd.read_csv('../dataset/dataset_keyhole.csv')\n",
    "input_list = ['etaP', 'Vs', 'r0', 'alpha', 'rho', 'cp', 'Tl-T0']\n",
    "output_list = ['e*']\n",
    "\n",
    "# split dataset\n",
    "df_train = df[df['source']!='Mat3']\n",
    "df_test = df[df['source']=='Mat3']\n",
    "\n",
    "X_train_val = df_train[input_list].to_numpy()\n",
    "y_train_val = df_train[output_list].to_numpy().reshape(-1,)\n",
    "\n",
    "X_test = df_test[input_list].to_numpy()\n",
    "y_test = df_test[output_list].to_numpy().reshape(-1,)\n",
    "\n",
    "# shuffle\n",
    "X_train_val, y_train_val = shuffle(X_train_val, y_train_val, random_state=0)\n",
    "\n",
    "data_train_val = np.concatenate([X_train_val, y_train_val.reshape(-1, 1)], axis=1)\n",
    "data_test = np.concatenate([X_train_val, y_train_val.reshape(-1, 1)], axis=1)\n",
    "print(f'[Dataset] X_train: {data_train_val.shape}, X_test: {data_test.shape}')"
   ]
  },
  {
   "cell_type": "code",
   "execution_count": 4,
   "metadata": {},
   "outputs": [],
   "source": [
    "# Dimensionless learning\n",
    "D_in = np.array(\n",
    "    [\n",
    "        [2., 1., 1., 2., -3., 2., 0.],\n",
    "        [-3., -1., 0., -1., 0., -2., 0.],\n",
    "        [1., 0., 0., 0., 1., 0., 0.],\n",
    "        [0., 0., 0., 0., 0., -1., 1.],\n",
    "    ],\n",
    ")\n",
    "D_out = np.array(\n",
    "    [\n",
    "        [1.],\n",
    "        [0.],\n",
    "        [0.],\n",
    "        [0.],\n",
    "    ]\n",
    ")\n",
    "dimension_info = [D_in, D_out]\n",
    "\n",
    "# best weights for Ke: 0.5, 1, 1\n",
    "scaling_mat = np.array(\n",
    "    [\n",
    "        [0., 0., 1],\n",
    "        [1, 2., -3],\n",
    "        [1, 0., -2.],\n",
    "        [-1, 0., 0.],\n",
    "        [0., 0., -1],\n",
    "        [0., -1, 0.],\n",
    "        [0., -1, 0.]],\n",
    ")\n",
    "basis1_in = scaling_mat[:, 0]\n",
    "basis2_in = scaling_mat[:, 1]\n",
    "basis3_in = scaling_mat[:, 2]\n",
    "basis_list = [basis1_in, basis2_in, basis3_in]"
   ]
  },
  {
   "cell_type": "code",
   "execution_count": 5,
   "metadata": {},
   "outputs": [
    {
     "name": "stdout",
     "output_type": "stream",
     "text": [
      "  model_name               Train                 Val                Test\n",
      "0  1st order  0.9767040899345983  0.9800732017248498  0.9591027924011651\n",
      "1  1st order  0.9770339597647097  0.9791308368379718  0.9591027924011651\n",
      "2  1st order  0.9789964900562478  0.9719857616502129  0.9591027924011651\n",
      "3  1st order  0.9797791194983893   0.958125318238962  0.9591027924011651\n",
      "4  1st order  0.9749146561460422  0.9850011003220557  0.9591027924011651\n"
     ]
    }
   ],
   "source": [
    "# cross-validation\n",
    "model_name_list = []\n",
    "r2_train_list, r2_val_list, r2_tes_list = [], [], []\n",
    "\n",
    "for degree in range(1, 6):\n",
    "    if degree == 1:\n",
    "        model_name_list += ['1st order'] * 5\n",
    "    elif degree == 2:\n",
    "         model_name_list += ['2nd order'] * 5\n",
    "    elif degree == 3:\n",
    "        model_name_list += ['3rd order'] * 5\n",
    "    elif degree == 4:\n",
    "        model_name_list += ['4th order'] * 5\n",
    "    elif degree == 5:\n",
    "        model_name_list += ['5th order'] * 5\n",
    "    # ss = ShuffleSplit(n_splits=5, test_size=0.2, random_state=2)\n",
    "    ss = KFold(n_splits=5, random_state=0, shuffle=True)\n",
    "    for seed, (train_index, val_index) in enumerate(ss.split(data_train_val)):\n",
    "        \n",
    "        X_train, y_train = data_train_val[train_index, :-1], data_train_val[train_index, -1].reshape(-1, 1)\n",
    "        X_val, y_val = data_train_val[val_index, :-1], data_train_val[val_index, -1].reshape(-1, 1)\n",
    "        df_train_temp = pd.DataFrame(data_train_val, columns=input_list+output_list)\n",
    "\n",
    "        # print('*'*40, seed, degree)\n",
    "        dimensionless_learning = DimensionlessLearning(df_train_temp, input_list, output_list, dimension_info, basis_list)\n",
    "        r2, basis_coef, power_coef, coef_w = dimensionless_learning.fit_pattern_search(max_ps=20, degree=degree, seed=seed)\n",
    "        # print('final r2', r2, basis_coef, power_coef.flatten(), coef_w)\n",
    "        # print(f'final train-r2: {r2:.4f}, basis_coef: {basis_coef}')\n",
    "        y_train_pred = dimensionless_learning.predict(X_train, power_coef, coef_w, degree=degree)\n",
    "        y_val_pred = dimensionless_learning.predict(X_val, power_coef, coef_w, degree=degree)\n",
    "        y_test_pred = dimensionless_learning.predict(X_test, power_coef, coef_w, degree=degree)\n",
    "        r2_train, r2_val, r2_test = r2_score(y_train, y_train_pred), r2_score(y_val, y_val_pred), r2_score(y_test, y_test_pred)\n",
    "        # print(f'\\t r2_train: {r2_train:.4f}, r2_val: {r2_val:.4f}, r2_test: {r2_test:.4f}')\n",
    "        r2_train_list.append(r2_train), r2_val_list.append(r2_val), r2_tes_list.append(r2_test)\n",
    "\n",
    "df = pd.DataFrame(np.array([model_name_list, r2_train_list, r2_val_list, r2_tes_list]).T, columns=['model_name', 'Train', 'Val', 'Test'])\n",
    "print(df.head())"
   ]
  },
  {
   "cell_type": "code",
   "execution_count": 6,
   "metadata": {},
   "outputs": [
    {
     "data": {
      "text/html": [
       "<div>\n",
       "<style scoped>\n",
       "    .dataframe tbody tr th:only-of-type {\n",
       "        vertical-align: middle;\n",
       "    }\n",
       "\n",
       "    .dataframe tbody tr th {\n",
       "        vertical-align: top;\n",
       "    }\n",
       "\n",
       "    .dataframe thead th {\n",
       "        text-align: right;\n",
       "    }\n",
       "</style>\n",
       "<table border=\"1\" class=\"dataframe\">\n",
       "  <thead>\n",
       "    <tr style=\"text-align: right;\">\n",
       "      <th></th>\n",
       "      <th>Model_name</th>\n",
       "      <th>R2</th>\n",
       "      <th>Data source</th>\n",
       "    </tr>\n",
       "  </thead>\n",
       "  <tbody>\n",
       "    <tr>\n",
       "      <th>0</th>\n",
       "      <td>1st order</td>\n",
       "      <td>0.976704</td>\n",
       "      <td>Training set</td>\n",
       "    </tr>\n",
       "    <tr>\n",
       "      <th>1</th>\n",
       "      <td>1st order</td>\n",
       "      <td>0.980073</td>\n",
       "      <td>Validation set</td>\n",
       "    </tr>\n",
       "    <tr>\n",
       "      <th>2</th>\n",
       "      <td>1st order</td>\n",
       "      <td>0.959103</td>\n",
       "      <td>Test set</td>\n",
       "    </tr>\n",
       "    <tr>\n",
       "      <th>3</th>\n",
       "      <td>1st order</td>\n",
       "      <td>0.977034</td>\n",
       "      <td>Training set</td>\n",
       "    </tr>\n",
       "    <tr>\n",
       "      <th>4</th>\n",
       "      <td>1st order</td>\n",
       "      <td>0.979131</td>\n",
       "      <td>Validation set</td>\n",
       "    </tr>\n",
       "  </tbody>\n",
       "</table>\n",
       "</div>"
      ],
      "text/plain": [
       "  Model_name        R2     Data source\n",
       "0  1st order  0.976704    Training set\n",
       "1  1st order  0.980073  Validation set\n",
       "2  1st order  0.959103        Test set\n",
       "3  1st order  0.977034    Training set\n",
       "4  1st order  0.979131  Validation set"
      ]
     },
     "execution_count": 6,
     "metadata": {},
     "output_type": "execute_result"
    }
   ],
   "source": [
    "res_final = []\n",
    "for i in range(df.shape[0]):\n",
    "    each_row = df.iloc[i]\n",
    "    # model_name = model_name_map[each_row['model_name']]\n",
    "    model_name = each_row['model_name']\n",
    "    res_final.append([model_name, float(each_row['Train']), 'Training set'])\n",
    "    res_final.append([model_name, float(each_row['Val']), 'Validation set'])\n",
    "    res_final.append([model_name, float(each_row['Test']), 'Test set'])\n",
    "\n",
    "df_final = pd.DataFrame(res_final, columns=['Model_name', 'R2', 'Data source'])\n",
    "df_final.head()"
   ]
  },
  {
   "cell_type": "code",
   "execution_count": 7,
   "metadata": {},
   "outputs": [
    {
     "data": {
      "image/png": "[encoded data removed]",
      "text/plain": [
       "<Figure size 640x480 with 1 Axes>"
      ]
     },
     "metadata": {
      "filenames": {
       "image/png": "/home/xie/projects/PyDimension-Book/_build/jupyter_execute/examples/cross_validation_keyhole_example_9_0.png"
      }
     },
     "output_type": "display_data"
    }
   ],
   "source": [
    "fig = plt.figure()\n",
    "sns.barplot(data=df_final, x='Model_name', y='R2', hue='Data source')\n",
    "plt.ylim([0.9, 1.])\n",
    "plt.legend(fontsize=14, loc=4)\n",
    "plt.xlabel('Model name', fontsize=18)\n",
    "plt.ylabel(r'$R^2$', fontsize=18)\n",
    "plt.tick_params(labelsize=14)\n",
    "plt.tight_layout()"
   ]
  },
  {
   "cell_type": "code",
   "execution_count": 8,
   "metadata": {},
   "outputs": [
    {
     "data": {
      "text/plain": [
       "R2    0.959103\n",
       "Name: mean, dtype: float64"
      ]
     },
     "execution_count": 8,
     "metadata": {},
     "output_type": "execute_result"
    }
   ],
   "source": [
    "df_final[(df_final['Model_name'] == '1st order') & (df_final['Data source'] == 'Test set')].describe().iloc[1]"
   ]
  },
  {
   "cell_type": "code",
   "execution_count": 9,
   "metadata": {},
   "outputs": [
    {
     "data": {
      "text/plain": [
       "R2    0.969485\n",
       "Name: mean, dtype: float64"
      ]
     },
     "execution_count": 9,
     "metadata": {},
     "output_type": "execute_result"
    }
   ],
   "source": [
    "df_final[(df_final['Model_name'] == '2nd order') & (df_final['Data source'] == 'Test set')].describe().iloc[1]"
   ]
  },
  {
   "cell_type": "code",
   "execution_count": 10,
   "metadata": {},
   "outputs": [
    {
     "data": {
      "text/plain": [
       "R2    0.970266\n",
       "Name: mean, dtype: float64"
      ]
     },
     "execution_count": 10,
     "metadata": {},
     "output_type": "execute_result"
    }
   ],
   "source": [
    "df_final[(df_final['Model_name'] == '3rd order') & (df_final['Data source'] == 'Test set')].describe().iloc[1]"
   ]
  },
  {
   "cell_type": "code",
   "execution_count": 11,
   "metadata": {},
   "outputs": [
    {
     "data": {
      "text/plain": [
       "R2    0.970802\n",
       "Name: mean, dtype: float64"
      ]
     },
     "execution_count": 11,
     "metadata": {},
     "output_type": "execute_result"
    }
   ],
   "source": [
    "df_final[(df_final['Model_name'] == '4th order') & (df_final['Data source'] == 'Test set')].describe().iloc[1]"
   ]
  },
  {
   "cell_type": "code",
   "execution_count": 12,
   "metadata": {},
   "outputs": [
    {
     "data": {
      "text/plain": [
       "R2    0.965631\n",
       "Name: mean, dtype: float64"
      ]
     },
     "execution_count": 12,
     "metadata": {},
     "output_type": "execute_result"
    }
   ],
   "source": [
    "df_final[(df_final['Model_name'] == '5th order') & (df_final['Data source'] == 'Test set')].describe().iloc[1]"
   ]
  },
  {
   "cell_type": "code",
   "execution_count": null,
   "metadata": {},
   "outputs": [],
   "source": []
  }
 ],
 "metadata": {
  "interpreter": {
   "hash": "d4e05679d6a31593988b5489bd865ca5a262d5481eb276cba948c252ea078b95"
  },
  "kernelspec": {
   "display_name": "Python 3.8.8 ('xie')",
   "language": "python",
   "name": "python3"
  },
  "language_info": {
   "codemirror_mode": {
    "name": "ipython",
    "version": 3
   },
   "file_extension": ".py",
   "mimetype": "text/x-python",
   "name": "python",
   "nbconvert_exporter": "python",
   "pygments_lexer": "ipython3",
   "version": "3.11.0"
  },
  "toc": {
   "base_numbering": 1,
   "nav_menu": {},
   "number_sections": true,
   "sideBar": true,
   "skip_h1_title": false,
   "title_cell": "Table of Contents",
   "title_sidebar": "Contents",
   "toc_cell": true,
   "toc_position": {},
   "toc_section_display": true,
   "toc_window_display": true
  }
 },
 "nbformat": 4,
 "nbformat_minor": 4
}