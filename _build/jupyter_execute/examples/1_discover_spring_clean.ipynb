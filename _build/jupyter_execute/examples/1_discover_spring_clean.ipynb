{
 "cells": [
  {
   "attachments": {},
   "cell_type": "markdown",
   "id": "a585692b",
   "metadata": {},
   "source": [
    "# Discover governing equation from spring-mass-damper systems!"
   ]
  },
  {
   "cell_type": "code",
   "execution_count": 1,
   "id": "83ea6cba",
   "metadata": {},
   "outputs": [],
   "source": [
    "import copy\n",
    "import os\n",
    "import sys\n",
    "\n",
    "import pandas as pd\n",
    "import matplotlib.pyplot as plt\n",
    "import numpy as np\n",
    "from sklearn.linear_model import LinearRegression, Ridge, LassoCV\n",
    "from sklearn.metrics import r2_score\n",
    "from sympy.utilities.lambdify import lambdify\n",
    "\n",
    "%matplotlib inline\n",
    "plt.rcParams[\"font.family\"] = \"Arial\"\n",
    "np.set_printoptions(suppress=True)"
   ]
  },
  {
   "attachments": {},
   "cell_type": "markdown",
   "id": "94d21411",
   "metadata": {},
   "source": [
    "## Helper functions"
   ]
  },
  {
   "cell_type": "code",
   "execution_count": 2,
   "id": "9f1428b8",
   "metadata": {},
   "outputs": [],
   "source": [
    "class SeqReg(object):\n",
    "\n",
    "    def __init__(self):\n",
    "        pass\n",
    "\n",
    "    def normalize(self, X, y):\n",
    "        '''\n",
    "        Normalization the data\n",
    "        '''\n",
    "        norm_coef_X = np.mean(np.abs(np.mean(X, axis=0)))\n",
    "        norm_coef_y = np.mean(np.abs(np.mean(y, axis=0)))\n",
    "        norm_coef = min(norm_coef_X, norm_coef_y)\n",
    "        # print('Before X', pd.DataFrame(np.concatenate([X, y], axis=1)).describe())\n",
    "        X = X / norm_coef\n",
    "        y = y / norm_coef\n",
    "        # print('After X', pd.DataFrame(np.concatenate([X, y], axis=1)).describe())\n",
    "        return X, y\n",
    "\n",
    "    def fit_fixed_threshold(self, X, y, alpha=1.0, threshold=0.005, is_normalize=True):\n",
    "        if is_normalize:\n",
    "            X, y = self.normalize(X, y)\n",
    "        \n",
    "        # initialize a linear regression model\n",
    "        # model = LinearRegression(fit_intercept=False)\n",
    "        model = Ridge(fit_intercept=False, alpha=1)\n",
    "        model.fit(X, y)\n",
    "        # r2 = model.score(X, y)\n",
    "        for idx in range(3):\n",
    "            coef = model.coef_\n",
    "            flag = np.repeat((np.abs(coef) > threshold).astype(int).reshape(1,-1), \n",
    "                             X.shape[0], axis=0)\n",
    "            X1 = copy.copy(X)\n",
    "            X1 = np.multiply(X1, flag)\n",
    "            model.fit(X1, y)\n",
    "            r2 = model.score(X1, y)\n",
    "            print(f'training {idx} r2: {r2}')\n",
    "        coef = np.squeeze(model.coef_)\n",
    "        return coef, X1\n",
    "\n",
    "    def fit_dynamic_thresh(self, X, y, non_zero_term=4, alpha=1.0, threshold=0.005, \n",
    "                is_normalize=True, fit_intercept=False, model_name='Ridge', max_iter=200):\n",
    "        '''\n",
    "        decrease the threshold when there are only limited non-zero terms\n",
    "        and increase the threshold when thre are more non-zeros terms\n",
    "        '''\n",
    "        if is_normalize:\n",
    "            X, y = self.normalize(X, y)\n",
    "        \n",
    "        # initialize a linear regression model\n",
    "        if model_name == 'Ridge':\n",
    "            model = Ridge(fit_intercept=fit_intercept, alpha=alpha)\n",
    "        elif model_name == 'LR':\n",
    "            model = LinearRegression(fit_intercept=fit_intercept)\n",
    "        else:\n",
    "            raise Exception('Wrong model_name.')\n",
    "        model.fit(X, y)\n",
    "        count = 0\n",
    "\n",
    "        while count <= max_iter:\n",
    "            coef = model.coef_\n",
    "            flag = np.repeat((np.abs(coef) > threshold).astype(int).reshape(1,-1), \n",
    "                             X.shape[0], axis=0)\n",
    "            cur_non_zero_term = np.sum(flag[0,:])\n",
    "            X1 = copy.copy(X)\n",
    "            X1 = np.multiply(X1, flag)\n",
    "            model.fit(X1, y)\n",
    "            r2 = model.score(X1, y)\n",
    "            # print(f'training r2: {r2}, threshold: {threshold}, cur_non_zero_term: {cur_non_zero_term}')\n",
    "            if cur_non_zero_term == non_zero_term:\n",
    "                break\n",
    "            elif cur_non_zero_term < non_zero_term:\n",
    "                threshold *= 0.95\n",
    "            else:\n",
    "                threshold *= 1.05\n",
    "            count += 1\n",
    "\n",
    "        coef = np.squeeze(model.coef_)\n",
    "        if fit_intercept:\n",
    "            coef_list = coef.tolist()\n",
    "            coef_list.append(float(model.intercept_))\n",
    "            coef = np.array(coef_list)\n",
    "\n",
    "        return coef, X1, r2"
   ]
  },
  {
   "cell_type": "code",
   "execution_count": 3,
   "id": "0022db7c",
   "metadata": {},
   "outputs": [],
   "source": [
    "# The original code of this part: https://github.com/snagcliffs/PDE-FIND\n",
    "from pyexpat import model\n",
    "\n",
    "def PolyDiffPoint(u, x, deg=3, diff=1, index=None):\n",
    "    '''\n",
    "    Poly diff\n",
    "    '''\n",
    "    n = len(x)\n",
    "    # if index == None: index = int((n-1)/2)\n",
    "    if index == None: index = (n-1)//2\n",
    "\n",
    "    # Fit to a polynomial\n",
    "    poly = np.polynomial.chebyshev.Chebyshev.fit(x, u, deg)\n",
    "    \n",
    "    # Take derivatives\n",
    "    derivatives = []\n",
    "    for d in range(1, diff + 1):\n",
    "        derivatives.append(poly.deriv(m=d)(x[index]))\n",
    "    \n",
    "    return derivatives"
   ]
  },
  {
   "cell_type": "code",
   "execution_count": null,
   "id": "30e1ba3d",
   "metadata": {},
   "outputs": [],
   "source": []
  },
  {
   "attachments": {},
   "cell_type": "markdown",
   "id": "59b815e8",
   "metadata": {},
   "source": [
    "## Dataset preparation"
   ]
  },
  {
   "cell_type": "code",
   "execution_count": 4,
   "id": "17bdc39d",
   "metadata": {},
   "outputs": [
    {
     "data": {
      "text/plain": [
       "[<matplotlib.lines.Line2D at 0x7f834fe10b10>]"
      ]
     },
     "execution_count": 4,
     "metadata": {},
     "output_type": "execute_result"
    },
    {
     "data": {
      "image/png": "[encoded data removed]",
      "text/plain": [
       "<Figure size 640x480 with 1 Axes>"
      ]
     },
     "metadata": {
      "filenames": {
       "image/png": "/home/xie/projects/PyDimension-Book/_build/jupyter_execute/examples/1_discover_spring_clean_7_1.png"
      }
     },
     "output_type": "display_data"
    }
   ],
   "source": [
    "class SpringMassDataset(object):\n",
    "    '''\n",
    "    Generate data for spring-mass-damping systems\n",
    "    '''\n",
    "    def __init__(self, k, m, A0, c, v0=0, et=20, Nt=800):\n",
    "        super(SpringMassDataset, self).__init__()\n",
    "        self.k = k\n",
    "        self.m = m\n",
    "        self.A0 = A0\n",
    "        self.c = c\n",
    "        self.et = et\n",
    "        self.v0 = v0\n",
    "        self.Nt = Nt\n",
    "\n",
    "        self.omega_n = np.sqrt(k / m)\n",
    "        self.xi = c / 2 / np.sqrt(m * k)\n",
    "        self.omega_d = self.omega_n * np.sqrt(1 - self.xi**2)\n",
    "        self.A = np.sqrt(A0**2 + ((v0 + self.xi * self.omega_n * A0) / self.omega_d)**2)\n",
    "        self.phi = np.arctan(self.omega_d * A0 / (v0 + self.xi * self.omega_n * A0))\n",
    "\n",
    "    def solution(self):\n",
    "        t = np.linspace(0, self.et, self.Nt, endpoint=False)\n",
    "        x = self.A * np.exp(-self.xi * self.omega_n * t) * np.sin(self.omega_d * t + self.phi)\n",
    "        info = {'t': t, 'x': x}\n",
    "        df = pd.DataFrame(info)\n",
    "        return df\n",
    "    \n",
    "k, m, A0, c, et, Nt = 0.2, 0.2, 0.07, 0.02, 20, 1000\n",
    "dataset = SpringMassDataset(k, m, A0, c)\n",
    "data_old = dataset.solution()\n",
    "fig = plt.figure()\n",
    "plt.plot(data_old['t'], data_old['x'])"
   ]
  },
  {
   "cell_type": "code",
   "execution_count": null,
   "id": "cb9724fb",
   "metadata": {},
   "outputs": [],
   "source": []
  }
 ],
 "metadata": {
  "kernelspec": {
   "display_name": "PyDimension",
   "language": "python",
   "name": "python3"
  },
  "language_info": {
   "codemirror_mode": {
    "name": "ipython",
    "version": 3
   },
   "file_extension": ".py",
   "mimetype": "text/x-python",
   "name": "python",
   "nbconvert_exporter": "python",
   "pygments_lexer": "ipython3",
   "version": "3.11.0"
  },
  "toc": {
   "base_numbering": 1,
   "nav_menu": {},
   "number_sections": true,
   "sideBar": true,
   "skip_h1_title": false,
   "title_cell": "Table of Contents",
   "title_sidebar": "Contents",
   "toc_cell": false,
   "toc_position": {},
   "toc_section_display": true,
   "toc_window_display": true
  },
  "vscode": {
   "interpreter": {
    "hash": "904ec0901b1dab60cbb175cce6563014087aab52b2a683f993104952735b0829"
   }
  }
 },
 "nbformat": 4,
 "nbformat_minor": 5
}