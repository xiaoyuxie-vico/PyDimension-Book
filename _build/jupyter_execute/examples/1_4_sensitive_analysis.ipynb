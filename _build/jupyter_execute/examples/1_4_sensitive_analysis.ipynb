{
 "cells": [
  {
   "attachments": {},
   "cell_type": "markdown",
   "id": "e4382d11",
   "metadata": {},
   "source": [
    "# Tutorial 1.4: Sensitivity analysis"
   ]
  },
  {
   "attachments": {},
   "cell_type": "markdown",
   "id": "91e76ab8",
   "metadata": {},
   "source": [
    "- **Authors**: Xiaoyu Xie\n",
    "- **Contact**: xiaoyuxie2020@u.northwestern.edu\n",
    "\n",
    "[![Open In Colab](https://colab.research.google.com/assets/colab-badge.svg)](https://colab.research.google.com/github/xiaoyuxie-vico/PyDimension-Book/blob/main/examples/1_4_sensitive_analysis.ipynb)\n",
    "[![Binder](https://mybinder.org/badge_logo.svg)](https://mybinder.org/v2/gh/xiaoyuxie-vico/PyDimension-Book/HEAD)"
   ]
  },
  {
   "cell_type": "code",
   "execution_count": 1,
   "id": "496bbe0f-c334-4438-ba0f-b94abf099fa4",
   "metadata": {},
   "outputs": [],
   "source": [
    "import matplotlib.pyplot as plt\n",
    "import numpy as np\n",
    "import pandas as pd\n",
    "from SALib.analyze import sobol\n",
    "from sklearn.linear_model import LinearRegression\n",
    "from sklearn.preprocessing import PolynomialFeatures\n",
    "from SALib.sample import saltelli\n",
    "import seaborn as sns\n",
    "\n",
    "%matplotlib inline\n",
    "plt.rcParams[\"font.family\"] = 'Arial'"
   ]
  },
  {
   "attachments": {},
   "cell_type": "markdown",
   "id": "b77e2f85",
   "metadata": {},
   "source": [
    "## Helper functions"
   ]
  },
  {
   "cell_type": "code",
   "execution_count": 2,
   "id": "73776615",
   "metadata": {},
   "outputs": [],
   "source": [
    "def parse_data(df, para_list, output='e*'):\n",
    "    '''Parse the input and output parameters'''\n",
    "    X = df[para_list].to_numpy()\n",
    "    y = df[output].to_numpy()\n",
    "    return X, y\n",
    "\n",
    "def calculate_bounds(df, para_list):\n",
    "    '''Calculate lower and upper bounds for each parameter'''\n",
    "    bounds = []\n",
    "    for var_name in para_list:\n",
    "        bounds.append([df[var_name].min(), df[var_name].max()])\n",
    "    return bounds\n",
    "\n",
    "def train_model(X, y, coef_pi, deg):\n",
    "    '''Build a predictive model with polynomial function'''\n",
    "    # build features\n",
    "    pi1 = np.prod(np.power(X, coef_pi.reshape(-1,)), axis=1).reshape(-1, 1)\n",
    "    poly = PolynomialFeatures(deg)\n",
    "    pi1_poly = poly.fit_transform(pi1)\n",
    "    \n",
    "    # fit\n",
    "    model = LinearRegression(fit_intercept=False)\n",
    "    model.fit(pi1_poly, y)\n",
    "    model.score(pi1_poly, y)\n",
    "    return model, poly\n",
    "\n",
    "def SA(para_list, coef_pi, bounds, model, poly, sample_num=2**10):\n",
    "    '''Sensitivity analysis'''\n",
    "    problem = {'num_vars': len(para_list), 'names': para_list, 'bounds': bounds}\n",
    "\n",
    "    # Generate samples\n",
    "    X_sampled = saltelli.sample(problem, sample_num, calc_second_order=True)\n",
    "    pi1_sampled = np.prod(np.power(X_sampled, coef_pi.reshape(-1,)), axis=1).reshape(-1, 1)\n",
    "    pi1_sampled_poly = poly.transform(pi1_sampled)\n",
    "    Y_sampled = model.predict(pi1_sampled_poly).reshape(-1,)\n",
    "    print(Y_sampled.shape)\n",
    "\n",
    "    # Perform analysis\n",
    "    Si = sobol.analyze(problem, Y_sampled, print_to_console=True)\n",
    "    \n",
    "    return Si\n",
    "\n",
    "def plot(Si, xtick_labels):\n",
    "    '''Visualization'''\n",
    "    total_Si, first_Si, second_Si = Si.to_df()\n",
    "    \n",
    "    total_Si['Type'] = ['Sobol total'] * total_Si.shape[0]\n",
    "    total_Si = total_Si.rename(columns={'ST': 'Sensitivity', 'ST_conf': 'conf'})\n",
    "    total_Si.index.name = 'Variable'\n",
    "    total_Si.reset_index(inplace=True)\n",
    "\n",
    "    first_Si['Type'] = ['Sobol 1st order'] * first_Si.shape[0]\n",
    "    first_Si = first_Si.rename(columns={'S1': 'Sensitivity', 'S1_conf': 'conf'})\n",
    "    first_Si.index.name = 'Variable'\n",
    "    first_Si.reset_index(inplace=True)\n",
    "    \n",
    "    res_df = pd.concat([first_Si, total_Si]).reset_index(drop=False)\n",
    "    # res_df = res_df.reindex(combined_df_index)\n",
    "    \n",
    "    fig = plt.figure()\n",
    "    ax = sns.barplot(data=res_df, x='Variable', y='Sensitivity', hue='Type')\n",
    "    ax.set_xticklabels(xtick_labels)\n",
    "    ax.legend(fontsize=14)\n",
    "    ax.set_xlabel('Variable', fontsize=16)\n",
    "    ax.set_ylabel('Sensitivity', fontsize=16)\n",
    "    ax.tick_params(axis='both', which='major', labelsize=13)\n",
    "    plt.tight_layout()\n"
   ]
  },
  {
   "attachments": {},
   "cell_type": "markdown",
   "id": "db16f458",
   "metadata": {},
   "source": [
    "## Load keyhole dataset"
   ]
  },
  {
   "cell_type": "code",
   "execution_count": 3,
   "id": "765b7613-6860-4f77-ac97-3221a6d80af2",
   "metadata": {},
   "outputs": [
    {
     "data": {
      "text/html": [
       "<div>\n",
       "<style scoped>\n",
       "    .dataframe tbody tr th:only-of-type {\n",
       "        vertical-align: middle;\n",
       "    }\n",
       "\n",
       "    .dataframe tbody tr th {\n",
       "        vertical-align: top;\n",
       "    }\n",
       "\n",
       "    .dataframe thead th {\n",
       "        text-align: right;\n",
       "    }\n",
       "</style>\n",
       "<table border=\"1\" class=\"dataframe\">\n",
       "  <thead>\n",
       "    <tr style=\"text-align: right;\">\n",
       "      <th></th>\n",
       "      <th>etaP</th>\n",
       "      <th>Vs</th>\n",
       "      <th>r0</th>\n",
       "      <th>alpha</th>\n",
       "      <th>rho</th>\n",
       "      <th>cp</th>\n",
       "      <th>Tv-T0</th>\n",
       "      <th>Lv</th>\n",
       "      <th>Tl-T0</th>\n",
       "      <th>Lm</th>\n",
       "      <th>e</th>\n",
       "      <th>Ke</th>\n",
       "      <th>e*</th>\n",
       "    </tr>\n",
       "  </thead>\n",
       "  <tbody>\n",
       "    <tr>\n",
       "      <th>count</th>\n",
       "      <td>90.000000</td>\n",
       "      <td>90.000000</td>\n",
       "      <td>90.000000</td>\n",
       "      <td>90.000000</td>\n",
       "      <td>90.000000</td>\n",
       "      <td>90.000000</td>\n",
       "      <td>90.000000</td>\n",
       "      <td>9.000000e+01</td>\n",
       "      <td>90.000000</td>\n",
       "      <td>90.000000</td>\n",
       "      <td>90.000000</td>\n",
       "      <td>90.000000</td>\n",
       "      <td>90.000000</td>\n",
       "    </tr>\n",
       "    <tr>\n",
       "      <th>mean</th>\n",
       "      <td>143.036444</td>\n",
       "      <td>0.733889</td>\n",
       "      <td>0.000053</td>\n",
       "      <td>0.000013</td>\n",
       "      <td>3949.633333</td>\n",
       "      <td>872.222222</td>\n",
       "      <td>3130.533333</td>\n",
       "      <td>9.197967e+06</td>\n",
       "      <td>1480.044444</td>\n",
       "      <td>296511.111111</td>\n",
       "      <td>0.000173</td>\n",
       "      <td>9.981230</td>\n",
       "      <td>3.520206</td>\n",
       "    </tr>\n",
       "    <tr>\n",
       "      <th>std</th>\n",
       "      <td>85.162496</td>\n",
       "      <td>0.267933</td>\n",
       "      <td>0.000010</td>\n",
       "      <td>0.000008</td>\n",
       "      <td>997.040085</td>\n",
       "      <td>117.939022</td>\n",
       "      <td>275.287641</td>\n",
       "      <td>9.413036e+05</td>\n",
       "      <td>342.642865</td>\n",
       "      <td>33657.309487</td>\n",
       "      <td>0.000129</td>\n",
       "      <td>7.220693</td>\n",
       "      <td>2.799219</td>\n",
       "    </tr>\n",
       "    <tr>\n",
       "      <th>min</th>\n",
       "      <td>31.400000</td>\n",
       "      <td>0.300000</td>\n",
       "      <td>0.000044</td>\n",
       "      <td>0.000005</td>\n",
       "      <td>2415.000000</td>\n",
       "      <td>790.000000</td>\n",
       "      <td>2499.000000</td>\n",
       "      <td>6.336000e+06</td>\n",
       "      <td>622.000000</td>\n",
       "      <td>260000.000000</td>\n",
       "      <td>0.000015</td>\n",
       "      <td>1.545937</td>\n",
       "      <td>0.208731</td>\n",
       "    </tr>\n",
       "    <tr>\n",
       "      <th>25%</th>\n",
       "      <td>73.825000</td>\n",
       "      <td>0.600000</td>\n",
       "      <td>0.000048</td>\n",
       "      <td>0.000010</td>\n",
       "      <td>3920.000000</td>\n",
       "      <td>830.000000</td>\n",
       "      <td>3267.000000</td>\n",
       "      <td>9.255000e+06</td>\n",
       "      <td>1630.000000</td>\n",
       "      <td>286000.000000</td>\n",
       "      <td>0.000071</td>\n",
       "      <td>4.197719</td>\n",
       "      <td>1.300126</td>\n",
       "    </tr>\n",
       "    <tr>\n",
       "      <th>50%</th>\n",
       "      <td>120.160000</td>\n",
       "      <td>0.700000</td>\n",
       "      <td>0.000048</td>\n",
       "      <td>0.000010</td>\n",
       "      <td>3920.000000</td>\n",
       "      <td>830.000000</td>\n",
       "      <td>3267.000000</td>\n",
       "      <td>9.255000e+06</td>\n",
       "      <td>1630.000000</td>\n",
       "      <td>286000.000000</td>\n",
       "      <td>0.000146</td>\n",
       "      <td>7.947395</td>\n",
       "      <td>2.925625</td>\n",
       "    </tr>\n",
       "    <tr>\n",
       "      <th>75%</th>\n",
       "      <td>192.895000</td>\n",
       "      <td>1.000000</td>\n",
       "      <td>0.000066</td>\n",
       "      <td>0.000010</td>\n",
       "      <td>3920.000000</td>\n",
       "      <td>830.000000</td>\n",
       "      <td>3267.000000</td>\n",
       "      <td>9.255000e+06</td>\n",
       "      <td>1630.000000</td>\n",
       "      <td>286000.000000</td>\n",
       "      <td>0.000252</td>\n",
       "      <td>14.359714</td>\n",
       "      <td>5.232955</td>\n",
       "    </tr>\n",
       "    <tr>\n",
       "      <th>max</th>\n",
       "      <td>342.600000</td>\n",
       "      <td>1.200000</td>\n",
       "      <td>0.000070</td>\n",
       "      <td>0.000032</td>\n",
       "      <td>6881.000000</td>\n",
       "      <td>1170.000000</td>\n",
       "      <td>3267.000000</td>\n",
       "      <td>1.053000e+07</td>\n",
       "      <td>1630.000000</td>\n",
       "      <td>380000.000000</td>\n",
       "      <td>0.000562</td>\n",
       "      <td>37.772286</td>\n",
       "      <td>12.772727</td>\n",
       "    </tr>\n",
       "  </tbody>\n",
       "</table>\n",
       "</div>"
      ],
      "text/plain": [
       "             etaP         Vs         r0      alpha          rho           cp  \\\n",
       "count   90.000000  90.000000  90.000000  90.000000    90.000000    90.000000   \n",
       "mean   143.036444   0.733889   0.000053   0.000013  3949.633333   872.222222   \n",
       "std     85.162496   0.267933   0.000010   0.000008   997.040085   117.939022   \n",
       "min     31.400000   0.300000   0.000044   0.000005  2415.000000   790.000000   \n",
       "25%     73.825000   0.600000   0.000048   0.000010  3920.000000   830.000000   \n",
       "50%    120.160000   0.700000   0.000048   0.000010  3920.000000   830.000000   \n",
       "75%    192.895000   1.000000   0.000066   0.000010  3920.000000   830.000000   \n",
       "max    342.600000   1.200000   0.000070   0.000032  6881.000000  1170.000000   \n",
       "\n",
       "             Tv-T0            Lv        Tl-T0             Lm          e  \\\n",
       "count    90.000000  9.000000e+01    90.000000      90.000000  90.000000   \n",
       "mean   3130.533333  9.197967e+06  1480.044444  296511.111111   0.000173   \n",
       "std     275.287641  9.413036e+05   342.642865   33657.309487   0.000129   \n",
       "min    2499.000000  6.336000e+06   622.000000  260000.000000   0.000015   \n",
       "25%    3267.000000  9.255000e+06  1630.000000  286000.000000   0.000071   \n",
       "50%    3267.000000  9.255000e+06  1630.000000  286000.000000   0.000146   \n",
       "75%    3267.000000  9.255000e+06  1630.000000  286000.000000   0.000252   \n",
       "max    3267.000000  1.053000e+07  1630.000000  380000.000000   0.000562   \n",
       "\n",
       "              Ke         e*  \n",
       "count  90.000000  90.000000  \n",
       "mean    9.981230   3.520206  \n",
       "std     7.220693   2.799219  \n",
       "min     1.545937   0.208731  \n",
       "25%     4.197719   1.300126  \n",
       "50%     7.947395   2.925625  \n",
       "75%    14.359714   5.232955  \n",
       "max    37.772286  12.772727  "
      ]
     },
     "execution_count": 3,
     "metadata": {},
     "output_type": "execute_result"
    }
   ],
   "source": [
    "# load data\n",
    "df = pd.read_csv('../dataset/dataset_keyhole.csv')\n",
    "df.describe()"
   ]
  },
  {
   "attachments": {},
   "cell_type": "markdown",
   "id": "7594611f",
   "metadata": {},
   "source": [
    "## Analysis for Ke"
   ]
  },
  {
   "cell_type": "code",
   "execution_count": 4,
   "id": "1dad1d62-c827-4ed7-9e17-fdd5302494e2",
   "metadata": {},
   "outputs": [
    {
     "name": "stderr",
     "output_type": "stream",
     "text": [
      "/tmp/ipykernel_9850/3367990274.py:32: DeprecationWarning: `salib.sample.saltelli` will be removed in SALib 1.5. Please use `salib.sample.sobol`\n",
      "  X_sampled = saltelli.sample(problem, sample_num, calc_second_order=True)\n"
     ]
    },
    {
     "name": "stdout",
     "output_type": "stream",
     "text": [
      "(16384,)\n",
      "             ST   ST_conf\n",
      "etaP   0.468911  0.051772\n",
      "Vs     0.075444  0.009027\n",
      "r0     0.086941  0.010679\n",
      "alpha  0.137722  0.019471\n",
      "rho    0.194494  0.025361\n",
      "cp     0.026777  0.003670\n",
      "Tl-T0  0.160593  0.019757\n",
      "             S1   S1_conf\n",
      "etaP   0.379400  0.049109\n",
      "Vs     0.058095  0.025721\n",
      "r0     0.061965  0.028098\n",
      "alpha  0.110631  0.030469\n",
      "rho    0.144342  0.038627\n",
      "cp     0.018855  0.015040\n",
      "Tl-T0  0.128264  0.040157\n",
      "                      S2   S2_conf\n",
      "(etaP, Vs)      0.008929  0.074879\n",
      "(etaP, r0)      0.014155  0.072449\n",
      "(etaP, alpha)   0.010734  0.073227\n",
      "(etaP, rho)     0.042107  0.087264\n",
      "(etaP, cp)      0.003964  0.067882\n",
      "(etaP, Tl-T0)   0.018733  0.073005\n",
      "(Vs, r0)       -0.003869  0.041452\n",
      "(Vs, alpha)    -0.006055  0.040558\n",
      "(Vs, rho)       0.000813  0.040660\n",
      "(Vs, cp)       -0.007282  0.037283\n",
      "(Vs, Tl-T0)    -0.000395  0.039226\n",
      "(r0, alpha)     0.003093  0.049766\n",
      "(r0, rho)      -0.001922  0.044956\n",
      "(r0, cp)        0.002067  0.045328\n",
      "(r0, Tl-T0)     0.001900  0.048501\n",
      "(alpha, rho)   -0.000030  0.055928\n",
      "(alpha, cp)    -0.015239  0.053693\n",
      "(alpha, Tl-T0) -0.006766  0.059622\n",
      "(rho, cp)       0.000069  0.063516\n",
      "(rho, Tl-T0)   -0.008466  0.066720\n",
      "(cp, Tl-T0)    -0.002182  0.027406\n"
     ]
    }
   ],
   "source": [
    "# config\n",
    "para_list = ['etaP', 'Vs', 'r0', 'alpha', 'rho', 'cp', 'Tl-T0']\n",
    "coef_pi = np.array([1, -0.5, -1.5, -0.5, -1, -1, -1])  # for Ke\n",
    "deg = 3\n",
    "\n",
    "# choose parameters\n",
    "X, y = parse_data(df, para_list)\n",
    "\n",
    "# calculate bounds\n",
    "bounds = calculate_bounds(df, para_list)\n",
    "\n",
    "# train mdoel\n",
    "model, poly = train_model(X, y, coef_pi, deg)\n",
    "\n",
    "# calculate sensitivity\n",
    "Si = SA(para_list, coef_pi, bounds, model, poly)"
   ]
  },
  {
   "cell_type": "code",
   "execution_count": 5,
   "id": "63626364",
   "metadata": {},
   "outputs": [
    {
     "data": {
      "image/png": "[encoded data removed]",
      "text/plain": [
       "<Figure size 640x480 with 1 Axes>"
      ]
     },
     "metadata": {
      "filenames": {
       "image/png": "/home/xie/projects/PyDimension-Book/_build/jupyter_execute/examples/1_4_sensitive_analysis_9_0.png"
      }
     },
     "output_type": "display_data"
    }
   ],
   "source": [
    "xtick_labels = [r'$\\eta P$', r'$\\rho$', r'$T_l-T_0$', r'$\\alpha$', r'$r_0$', r'$V_s$', r'$C_p$']\n",
    "# sort the sensitivity from high to low\n",
    "# combined_df_index = [0, 4, 6, 3, 2, 1, 5, 0+7, 4+7, 6+7, 3+7, 2+7, 1+7, 5+7] \n",
    "plot(Si, xtick_labels)"
   ]
  },
  {
   "attachments": {},
   "cell_type": "markdown",
   "id": "84b88cc8",
   "metadata": {},
   "source": [
    "## Add one more parameter $T_v-T_l$"
   ]
  },
  {
   "cell_type": "code",
   "execution_count": 6,
   "id": "f4f3b2e2-5365-4ba5-9d75-d43778c02bf3",
   "metadata": {},
   "outputs": [
    {
     "name": "stderr",
     "output_type": "stream",
     "text": [
      "/tmp/ipykernel_9850/3367990274.py:32: DeprecationWarning: `salib.sample.saltelli` will be removed in SALib 1.5. Please use `salib.sample.sobol`\n",
      "  X_sampled = saltelli.sample(problem, sample_num, calc_second_order=True)\n"
     ]
    },
    {
     "name": "stdout",
     "output_type": "stream",
     "text": [
      "(18432,)\n"
     ]
    },
    {
     "name": "stdout",
     "output_type": "stream",
     "text": [
      "             ST   ST_conf\n",
      "etaP   0.435631  0.145976\n",
      "Vs     0.102755  0.026730\n",
      "r0     0.101415  0.029560\n",
      "alpha  0.216431  0.067809\n",
      "rho    0.243284  0.085591\n",
      "cp     0.029825  0.008097\n",
      "Tl-T0  0.154469  0.077415\n",
      "Tv-T0  0.001798  0.001216\n",
      "             S1   S1_conf\n",
      "etaP   0.293056  0.079947\n",
      "Vs     0.058431  0.028012\n",
      "r0     0.060356  0.026789\n",
      "alpha  0.111009  0.042108\n",
      "rho    0.143368  0.049639\n",
      "cp     0.017399  0.012577\n",
      "Tl-T0  0.059561  0.030674\n",
      "Tv-T0  0.000351  0.002431\n",
      "                      S2   S2_conf\n",
      "(etaP, Vs)      0.001401  0.066360\n",
      "(etaP, r0)     -0.004557  0.061456\n",
      "(etaP, alpha)   0.022270  0.076796\n",
      "(etaP, rho)     0.009413  0.073308\n",
      "(etaP, cp)     -0.011741  0.055110\n",
      "(etaP, Tl-T0)   0.010808  0.066113\n",
      "(etaP, Tv-T0)  -0.008894  0.055466\n",
      "(Vs, r0)       -0.008851  0.052594\n",
      "(Vs, alpha)    -0.008343  0.068011\n",
      "(Vs, rho)      -0.010061  0.055409\n",
      "(Vs, cp)       -0.009823  0.045726\n",
      "(Vs, Tl-T0)    -0.006326  0.059062\n",
      "(Vs, Tv-T0)    -0.009010  0.045823\n",
      "(r0, alpha)    -0.013241  0.045482\n",
      "(r0, rho)       0.000213  0.044976\n",
      "(r0, cp)       -0.009465  0.038968\n",
      "(r0, Tl-T0)    -0.001906  0.055225\n",
      "(r0, Tv-T0)    -0.009262  0.040926\n",
      "(alpha, rho)    0.012296  0.116439\n",
      "(alpha, cp)    -0.010145  0.084516\n",
      "(alpha, Tl-T0) -0.018565  0.096046\n",
      "(alpha, Tv-T0) -0.006149  0.086311\n",
      "(rho, cp)      -0.022207  0.059713\n",
      "(rho, Tl-T0)   -0.009719  0.063332\n",
      "(rho, Tv-T0)   -0.025940  0.057249\n",
      "(cp, Tl-T0)     0.000179  0.024448\n",
      "(cp, Tv-T0)    -0.003383  0.018828\n",
      "(Tl-T0, Tv-T0) -0.000089  0.059373\n"
     ]
    }
   ],
   "source": [
    "# config\n",
    "para_list = ['etaP', 'Vs', 'r0', 'alpha', 'rho', 'cp', 'Tl-T0', 'Tv-T0']\n",
    "coef_pi = np.array([1, -0.5, -1.5, -0.5, -1, -1, -0.75, -0.25])  # for table 3, 2nd row\n",
    "deg = 3\n",
    "\n",
    "# choose parameters\n",
    "X, y = parse_data(df, para_list)\n",
    "\n",
    "# calculate bounds\n",
    "bounds = calculate_bounds(df, para_list)\n",
    "\n",
    "# train mdoel\n",
    "model, poly = train_model(X, y, coef_pi, deg)\n",
    "\n",
    "# calculate sensitivity\n",
    "Si = SA(para_list, coef_pi, bounds, model, poly)"
   ]
  },
  {
   "cell_type": "code",
   "execution_count": 7,
   "id": "49efae1d",
   "metadata": {},
   "outputs": [
    {
     "data": {
      "image/png": "[encoded data removed]",
      "text/plain": [
       "<Figure size 640x480 with 1 Axes>"
      ]
     },
     "metadata": {
      "filenames": {
       "image/png": "/home/xie/projects/PyDimension-Book/_build/jupyter_execute/examples/1_4_sensitive_analysis_12_0.png"
      }
     },
     "output_type": "display_data"
    }
   ],
   "source": [
    "xtick_labels = [r'$\\eta P$', r'$V_s$', r'$r_0$', r'$\\alpha$', r'$\\rho$',\n",
    "                    r'$C_p$', r'$T_l-T_0$', r'$T_v-T_l$']\n",
    "plot(Si, xtick_labels)"
   ]
  },
  {
   "attachments": {},
   "cell_type": "markdown",
   "id": "d5c7689f",
   "metadata": {},
   "source": [
    "## Add one more parameter $L_m$"
   ]
  },
  {
   "cell_type": "code",
   "execution_count": 8,
   "id": "8adab671",
   "metadata": {},
   "outputs": [
    {
     "name": "stderr",
     "output_type": "stream",
     "text": [
      "/tmp/ipykernel_9850/3367990274.py:32: DeprecationWarning: `salib.sample.saltelli` will be removed in SALib 1.5. Please use `salib.sample.sobol`\n",
      "  X_sampled = saltelli.sample(problem, sample_num, calc_second_order=True)\n"
     ]
    },
    {
     "name": "stdout",
     "output_type": "stream",
     "text": [
      "(18432,)\n"
     ]
    },
    {
     "name": "stdout",
     "output_type": "stream",
     "text": [
      "             ST   ST_conf\n",
      "etaP   0.407922  0.200841\n",
      "Vs     0.114861  0.044676\n",
      "r0     0.109062  0.047366\n",
      "alpha  0.253861  0.095557\n",
      "rho    0.295320  0.178204\n",
      "cp     0.018771  0.006840\n",
      "Tl-T0  0.216055  0.198055\n",
      "Lm     0.005355  0.003674\n",
      "             S1   S1_conf\n",
      "etaP   0.246249  0.104445\n",
      "Vs     0.053234  0.029314\n",
      "r0     0.051079  0.028989\n",
      "alpha  0.101483  0.038398\n",
      "rho    0.127977  0.062659\n",
      "cp     0.008455  0.009499\n",
      "Tl-T0  0.051638  0.028288\n",
      "Lm     0.000703  0.004145\n",
      "                      S2   S2_conf\n",
      "(etaP, Vs)     -0.001122  0.070353\n",
      "(etaP, r0)     -0.008193  0.068206\n",
      "(etaP, alpha)   0.019447  0.096858\n",
      "(etaP, rho)     0.006793  0.085243\n",
      "(etaP, cp)     -0.014905  0.067213\n",
      "(etaP, Tl-T0)   0.011559  0.082104\n",
      "(etaP, Lm)     -0.010896  0.068954\n",
      "(Vs, r0)       -0.011737  0.055237\n",
      "(Vs, alpha)    -0.012059  0.074544\n",
      "(Vs, rho)      -0.014467  0.063778\n",
      "(Vs, cp)       -0.012331  0.047841\n",
      "(Vs, Tl-T0)    -0.009250  0.067490\n",
      "(Vs, Lm)       -0.011251  0.047516\n",
      "(r0, alpha)    -0.008149  0.052493\n",
      "(r0, rho)       0.008530  0.052896\n",
      "(r0, cp)       -0.004924  0.041889\n",
      "(r0, Tl-T0)     0.006490  0.068834\n",
      "(r0, Lm)       -0.003403  0.043531\n",
      "(alpha, rho)    0.024897  0.131157\n",
      "(alpha, cp)    -0.007572  0.078074\n",
      "(alpha, Tl-T0) -0.015623  0.091872\n",
      "(alpha, Lm)    -0.002525  0.078353\n",
      "(rho, cp)      -0.023625  0.079697\n",
      "(rho, Tl-T0)   -0.006633  0.083697\n",
      "(rho, Lm)      -0.025646  0.079229\n",
      "(cp, Tl-T0)     0.000633  0.018882\n",
      "(cp, Lm)       -0.002598  0.014916\n",
      "(Tl-T0, Lm)     0.005331  0.067919\n"
     ]
    }
   ],
   "source": [
    "# config\n",
    "para_list = ['etaP', 'Vs', 'r0', 'alpha', 'rho', 'cp', 'Tl-T0', 'Lm']\n",
    "coef_pi = np.array([1, -0.5, -1.5, -0.5, -1, -0.75, -0.75, -0.25])  # for table 4, 3rd row\n",
    "deg = 3\n",
    "\n",
    "# choose parameters\n",
    "X, y = parse_data(df, para_list)\n",
    "\n",
    "# calculate bounds\n",
    "bounds = calculate_bounds(df, para_list)\n",
    "\n",
    "# train mdoel\n",
    "model, poly = train_model(X, y, coef_pi, deg)\n",
    "\n",
    "# calculate sensitivity\n",
    "Si = SA(para_list, coef_pi, bounds, model, poly)"
   ]
  },
  {
   "cell_type": "code",
   "execution_count": 9,
   "id": "07a1bd3b",
   "metadata": {},
   "outputs": [
    {
     "data": {
      "image/png": "[encoded data removed]",
      "text/plain": [
       "<Figure size 640x480 with 1 Axes>"
      ]
     },
     "metadata": {
      "filenames": {
       "image/png": "/home/xie/projects/PyDimension-Book/_build/jupyter_execute/examples/1_4_sensitive_analysis_15_0.png"
      }
     },
     "output_type": "display_data"
    }
   ],
   "source": [
    "xtick_labels = [r'$\\eta P$', r'$V_s$', r'$r_0$', r'$\\alpha$', r'$\\rho$',\n",
    "                    r'$C_p$', r'$T_l-T_0$', r'$L_m$']\n",
    "plot(Si, xtick_labels)"
   ]
  },
  {
   "cell_type": "code",
   "execution_count": null,
   "id": "bb24791a",
   "metadata": {},
   "outputs": [],
   "source": []
  }
 ],
 "metadata": {
  "kernelspec": {
   "display_name": "Python 3.8.8 ('xie')",
   "language": "python",
   "name": "python3"
  },
  "language_info": {
   "codemirror_mode": {
    "name": "ipython",
    "version": 3
   },
   "file_extension": ".py",
   "mimetype": "text/x-python",
   "name": "python",
   "nbconvert_exporter": "python",
   "pygments_lexer": "ipython3",
   "version": "3.11.0"
  },
  "vscode": {
   "interpreter": {
    "hash": "d4e05679d6a31593988b5489bd865ca5a262d5481eb276cba948c252ea078b95"
   }
  }
 },
 "nbformat": 4,
 "nbformat_minor": 5
}